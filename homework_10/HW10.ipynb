{
 "cells": [
  {
   "cell_type": "code",
   "execution_count": 34,
   "metadata": {
    "collapsed": true
   },
   "outputs": [],
   "source": [
    "import numpy as np\n",
    "import pandas as pd\n",
    "import matplotlib.pyplot as plt\n",
    "from sklearn.externals import joblib\n",
    "from sklearn import metrics\n",
    "from tqdm import tqdm"
   ]
  },
  {
   "cell_type": "code",
   "execution_count": 35,
   "metadata": {
    "scrolled": true
   },
   "outputs": [
    {
     "name": "stdout",
     "output_type": "stream",
     "text": [
      "Read 4551 raw text documents\n"
     ]
    }
   ],
   "source": [
    "raw_documents = []\n",
    "snippets = []\n",
    "with open(\"data.txt\", \"r\", encoding='utf-8') as f:\n",
    "    for line in f.readlines():\n",
    "        text = line.strip()\n",
    "        raw_documents.append( text.lower() )\n",
    "        \n",
    "        snippets.append( text[0:min(len(text),100)] )\n",
    "print(\"Read %d raw text documents\" % len(raw_documents))"
   ]
  },
  {
   "cell_type": "code",
   "execution_count": 36,
   "metadata": {},
   "outputs": [
    {
     "name": "stdout",
     "output_type": "stream",
     "text": [
      "Stopword list has 350 entries\n"
     ]
    }
   ],
   "source": [
    "# custom stopwords\n",
    "custom_stop_words = []\n",
    "with open(\"stopwords.txt\", \"r\", encoding='utf-8') as f:\n",
    "    for line in f.readlines():\n",
    "        custom_stop_words.append( line.strip().lower() )\n",
    "        \n",
    "print(\"Stopword list has %d entries\" % len(custom_stop_words) )"
   ]
  },
  {
   "cell_type": "code",
   "execution_count": 37,
   "metadata": {},
   "outputs": [
    {
     "name": "stdout",
     "output_type": "stream",
     "text": [
      "Created 4551 X 10285 TF-IDF-normalized document-term matrix\n"
     ]
    },
    {
     "data": {
      "text/plain": [
       "['articles-tfidf.pkl']"
      ]
     },
     "execution_count": 37,
     "metadata": {},
     "output_type": "execute_result"
    }
   ],
   "source": [
    "# create BoW + tf-idf model\n",
    "from sklearn.feature_extraction.text import TfidfVectorizer\n",
    "\n",
    "\n",
    "vectorizer = TfidfVectorizer(stop_words=custom_stop_words, min_df = 20)\n",
    "A = vectorizer.fit_transform(raw_documents)\n",
    "print( \"Created %d X %d TF-IDF-normalized document-term matrix\" % (A.shape[0], A.shape[1]) )\n",
    "\n",
    "terms = vectorizer.get_feature_names()\n",
    "joblib.dump((A,terms,snippets), \"articles-tfidf.pkl\")"
   ]
  },
  {
   "cell_type": "code",
   "execution_count": 38,
   "metadata": {},
   "outputs": [
    {
     "name": "stdout",
     "output_type": "stream",
     "text": [
      "trump (190.87)\n",
      "people (109.90)\n",
      "eu (109.17)\n",
      "film (91.35)\n",
      "uk (89.10)\n",
      "bank (78.69)\n",
      "time (76.12)\n",
      "brexit (67.98)\n",
      "health (61.59)\n",
      "government (60.24)\n",
      "back (60.24)\n",
      "clinton (59.95)\n",
      "get (57.37)\n",
      "world (56.85)\n",
      "campaign (56.35)\n",
      "women (55.82)\n",
      "way (54.95)\n",
      "before (54.60)\n",
      "vote (54.33)\n",
      "work (54.04)\n"
     ]
    }
   ],
   "source": [
    "# top features from tf-idf model\n",
    "import operator\n",
    "\n",
    "\n",
    "sums = np.array(A.sum(axis=0)).ravel()\n",
    "# map weights to the terms\n",
    "weights = { term: sums[col] for col, term in enumerate(terms)}\n",
    "ranking = sorted(weights.items(), key=operator.itemgetter(1), reverse=True)\n",
    "for i, pair in enumerate( ranking[0:20] ):\n",
    "    print( \"%s (%.2f)\" % ( pair[0], pair[1] ) )"
   ]
  },
  {
   "cell_type": "code",
   "execution_count": 39,
   "metadata": {
    "collapsed": true
   },
   "outputs": [],
   "source": [
    "#Apply NMF\n",
    "\n",
    "from sklearn.decomposition import NMF\n",
    "\n",
    "(A,terms,snippets) = joblib.load( \"articles-tfidf.pkl\")\n",
    "\n",
    "# create the model\n",
    "k = 10\n",
    "model = NMF( init=\"nndsvd\", n_components=k ) \n",
    "\n",
    "W = model.fit_transform( A )\n",
    "H = model.components_"
   ]
  },
  {
   "cell_type": "code",
   "execution_count": 40,
   "metadata": {},
   "outputs": [
    {
     "data": {
      "text/plain": [
       "array([ 0.99,  0.  ,  0.  ,  0.  ,  0.04,  0.  ,  0.  ,  0.  ,  0.25,  0.  ])"
      ]
     },
     "execution_count": 40,
     "metadata": {},
     "output_type": "execute_result"
    }
   ],
   "source": [
    "W.shape\n",
    "W[0,:].round(2)\n",
    "H.shape\n",
    "H[:,terms.index('brexit')].round(2)"
   ]
  },
  {
   "cell_type": "code",
   "execution_count": 41,
   "metadata": {},
   "outputs": [
    {
     "name": "stdout",
     "output_type": "stream",
     "text": [
      "Topic 01: eu, uk, brexit, britain, european, leave, europe, vote, referendum, trade, british, government, minister, market, union, cameron, deal, economic, economy, remain\n",
      "Topic 02: trump, clinton, donald, republican, campaign, president, hillary, cruz, sanders, presidential, obama, election, nominee, candidate, state, america, party, rubio, democratic, american\n",
      "Topic 03: film, films, movie, star, director, hollywood, actor, story, drama, cinema, festival, life, character, best, black, movies, oscar, screen, comedy, man\n",
      "Topic 04: league, season, leicester, goal, premier, united, city, liverpool, game, ball, team, players, arsenal, manchester, chelsea, football, club, palace, half, manager\n",
      "Topic 05: bank, banks, banking, financial, rbs, customers, shares, deutsche, barclays, lloyds, hsbc, investors, market, rates, interest, rate, markets, business, chief, capital\n",
      "Topic 06: health, nhs, care, patients, mental, doctors, hospital, people, services, junior, social, patient, healthcare, hunt, staff, children, government, medical, england, treatment\n",
      "Topic 07: album, music, band, song, pop, songs, rock, love, sound, bowie, guitar, singer, track, record, time, lyrics, sounds, review, tour, something\n",
      "Topic 08: facebook, internet, online, twitter, users, google, people, media, company, amazon, social, technology, data, news, digital, content, mobile, companies, site, tech\n",
      "Topic 09: labour, party, corbyn, cameron, referendum, vote, voters, campaign, johnson, minister, leader, tory, prime, brexit, mps, leave, ukip, remain, election, conservative\n",
      "Topic 10: women, abortion, woman, men, cancer, female, ireland, girls, rights, northern, gender, sex, sexual, pregnancy, people, abortions, male, court, life, zika\n"
     ]
    }
   ],
   "source": [
    "# show topic descriptors\n",
    "def get_descriptor( terms, H, topic_index, top ):\n",
    "    top_indices = np.argsort( H[topic_index,:] )[::-1]\n",
    "    top_terms = []\n",
    "    for term_index in top_indices[0:top]:\n",
    "        top_terms.append( terms[term_index] )\n",
    "    return top_terms\n",
    "\n",
    "descriptors = []\n",
    "for topic_index in range(k):\n",
    "    descriptors.append( get_descriptor( terms, H, topic_index, 20 ) )\n",
    "    str_descriptor = \", \".join( descriptors[topic_index] )\n",
    "    print(\"Topic %02d: %s\" % ( topic_index+1, str_descriptor ) )"
   ]
  },
  {
   "cell_type": "code",
   "execution_count": 42,
   "metadata": {},
   "outputs": [
    {
     "name": "stdout",
     "output_type": "stream",
     "text": [
      "01. Brexit X-men: how the prime minister’s key negotiators are coping When Boris Johnson was working for\n",
      "02. Archbishop accuses Farage of racism and 'accentuating fear for political gain' – EU referendum live \n",
      "03. Brexit could shift Europe's political centre of gravity, says Fitch A vote for Brexit in next month’\n",
      "04. EU leaders line up to insist UK will pay a high price for Brexit stance Britain and the EU appear mo\n",
      "05. Would Brexit make UK businesses less competitive? In this week’s EU referendum Q&A our panel discuss\n",
      "06. David Cameron: being in the EU gives Britain key counter-terrorism information David Cameron has sai\n",
      "07. Slovakian foreign minister: I will support any measure to stop Brexit The new Slovakian EU presidenc\n",
      "08. Brexit weekly briefing: we're going to be kept in the dark Welcome to the weekly Brexit briefing, a \n",
      "09. What would Brexit mean for housing, regeneration and central government? Housing and regeneration: T\n",
      "10. Cameron names referendum date as Gove declares for Brexit – as it happened • David Cameron has calle\n"
     ]
    }
   ],
   "source": [
    "def get_top_snippets( all_snippets, W, topic_index, top ):\n",
    "    top_indices = np.argsort( W[:,topic_index] )[::-1]\n",
    "    top_snippets = []\n",
    "    for doc_index in top_indices[0:top]:\n",
    "        top_snippets.append( all_snippets[doc_index] )\n",
    "    return top_snippets\n",
    "\n",
    "topic_snippets = get_top_snippets( snippets, W, 0, 10 )\n",
    "for i, snippet in enumerate(topic_snippets):\n",
    "    print(\"%02d. %s\" % ( (i+1), snippet ) )"
   ]
  },
  {
   "cell_type": "code",
   "execution_count": 43,
   "metadata": {},
   "outputs": [
    {
     "data": {
      "text/plain": [
       "['articles-model-nmf-k10.pkl']"
      ]
     },
     "execution_count": 43,
     "metadata": {},
     "output_type": "execute_result"
    }
   ],
   "source": [
    "joblib.dump((W,H,terms,snippets), \"articles-model-nmf-k%02d.pkl\" % k)"
   ]
  },
  {
   "cell_type": "code",
   "execution_count": 11,
   "metadata": {},
   "outputs": [
    {
     "name": "stderr",
     "output_type": "stream",
     "text": [
      "100%|██████████████████████████████████████████| 12/12 [01:01<00:00,  5.16s/it]\n"
     ]
    }
   ],
   "source": [
    "#Topic coherence\n",
    "\n",
    "kmin, kmax = 4, 15\n",
    "\n",
    "topic_models = []\n",
    "for k in tqdm(range(kmin,kmax+1)):\n",
    "    model = NMF( init=\"nndsvd\", n_components=k ) \n",
    "    W = model.fit_transform( A )\n",
    "    H = model.components_    \n",
    "    topic_models.append( (k,W,H) )"
   ]
  },
  {
   "cell_type": "code",
   "execution_count": 44,
   "metadata": {},
   "outputs": [
    {
     "name": "stdout",
     "output_type": "stream",
     "text": [
      "Model has 12192 terms\n"
     ]
    }
   ],
   "source": [
    "import re\n",
    "import gensim\n",
    "\n",
    "\n",
    "class TokenGenerator:\n",
    "    def __init__( self, documents, stopwords ):\n",
    "        self.documents = documents\n",
    "        self.stopwords = stopwords\n",
    "        self.tokenizer = re.compile( r\"(?u)\\b\\w\\w+\\b\" )\n",
    "\n",
    "    def __iter__( self ):\n",
    "        for doc in self.documents:\n",
    "            tokens = []\n",
    "            for tok in self.tokenizer.findall( doc ):\n",
    "                if tok in self.stopwords:\n",
    "                    tokens.append( \"<stopword>\" )\n",
    "                elif len(tok) >= 2:\n",
    "                    tokens.append( tok )\n",
    "            yield tokens\n",
    "            \n",
    "\n",
    "docgen = TokenGenerator( raw_documents, custom_stop_words )\n",
    "w2v_model = gensim.models.Word2Vec(docgen, size=500, min_count=20, sg=1)\n",
    "print( \"Model has %d terms\" % len(w2v_model.wv.vocab) )\n",
    "w2v_model.save(\"w2v-model.bin\")"
   ]
  },
  {
   "cell_type": "code",
   "execution_count": 46,
   "metadata": {},
   "outputs": [
    {
     "name": "stdout",
     "output_type": "stream",
     "text": [
      "K=04: Coherence=0.3395\n",
      "K=05: Coherence=0.3591\n",
      "K=06: Coherence=0.3676\n",
      "K=07: Coherence=0.3845\n",
      "K=08: Coherence=0.3977\n",
      "K=09: Coherence=0.4007\n",
      "K=10: Coherence=0.4049\n",
      "K=11: Coherence=0.4045\n",
      "K=12: Coherence=0.4080\n",
      "K=13: Coherence=0.4086\n",
      "K=14: Coherence=0.4055\n",
      "K=15: Coherence=0.4091\n"
     ]
    }
   ],
   "source": [
    "#TC-W2C\n",
    "\n",
    "from itertools import combinations\n",
    "\n",
    "\n",
    "def calculate_coherence( w2v_model, term_rankings ):\n",
    "    overall_coherence = 0.0\n",
    "    for topic_index in range(len(term_rankings)):\n",
    "        # check each pair of terms\n",
    "        pair_scores = []\n",
    "        for pair in combinations( term_rankings[topic_index], 2 ):\n",
    "            pair_scores.append( w2v_model.similarity(pair[0], pair[1]) )\n",
    "        # get the mean for all pairs in this topic\n",
    "        topic_score = sum(pair_scores) / len(pair_scores)\n",
    "        overall_coherence += topic_score\n",
    "    # get the mean score across all topics\n",
    "    return overall_coherence / len(term_rankings)\n",
    "\n",
    "\n",
    "k_values = []\n",
    "coherences = []\n",
    "for (k,W,H) in topic_models:\n",
    "    # Get all of the topic descriptors - the term_rankings, based on top 20 terms\n",
    "    term_rankings = []\n",
    "    for topic_index in range(k):\n",
    "        term_rankings.append( get_descriptor( terms, H, topic_index, 20 ) )\n",
    "    # Now calculate the coherence based on our Word2vec model\n",
    "    k_values.append( k )\n",
    "    coherences.append( calculate_coherence( w2v_model, term_rankings ) )\n",
    "    print(\"K=%02d: Coherence=%.4f\" % ( k, coherences[-1] ) )"
   ]
  },
  {
   "cell_type": "code",
   "execution_count": 47,
   "metadata": {},
   "outputs": [
    {
     "data": {
      "image/png": "[encoded data removed]",
      "text/plain": [
       "<matplotlib.figure.Figure at 0xc63a9e9e8>"
      ]
     },
     "metadata": {},
     "output_type": "display_data"
    }
   ],
   "source": [
    "fig = plt.figure(figsize=(13,7))\n",
    "# create the line plot\n",
    "ax = plt.plot( k_values, coherences )\n",
    "plt.xticks(k_values)\n",
    "plt.xlabel(\"Number of Topics\")\n",
    "plt.ylabel(\"Mean Coherence\")\n",
    "# add the points\n",
    "plt.scatter( k_values, coherences, s=120)\n",
    "# find and annotate the maximum point on the plot\n",
    "ymax = max(coherences)\n",
    "xpos = coherences.index(ymax)\n",
    "best_k = k_values[xpos]\n",
    "plt.annotate( \"k=%d\" % best_k, xy=(best_k, ymax), xytext=(best_k, ymax), textcoords=\"offset points\", fontsize=16)\n",
    "# show the plot\n",
    "plt.show()"
   ]
  },
  {
   "cell_type": "code",
   "execution_count": 48,
   "metadata": {
    "scrolled": false
   },
   "outputs": [
    {
     "name": "stdout",
     "output_type": "stream",
     "text": [
      "Topic 01: eu, uk, britain, brexit, european, leave, europe, referendum, british, vote, trade, cameron, minister, union, government, deal, remain, prime, negotiations, brussels\n",
      "Topic 02: trump, donald, president, republican, campaign, america, obama, white, presidential, american, election, people, nominee, candidate, elect, political, country, americans, house, pence\n",
      "Topic 03: film, films, movie, star, director, hollywood, actor, story, drama, cinema, festival, life, character, best, black, movies, oscar, screen, comedy, man\n",
      "Topic 04: ball, goal, liverpool, game, half, palace, united, corner, shot, back, everton, west, swansea, minutes, sunderland, team, arsenal, left, chelsea, kick\n",
      "Topic 05: bank, banks, banking, rbs, deutsche, customers, barclays, financial, shares, hsbc, lloyds, capital, investors, executive, crisis, chief, pay, accounts, branches, mortgage\n",
      "Topic 06: nhs, doctors, patients, care, junior, hospital, health, hunt, patient, staff, medical, bma, doctor, healthcare, hospitals, contract, services, england, social, government\n",
      "Topic 07: album, music, band, song, pop, songs, rock, love, sound, bowie, guitar, singer, track, record, time, lyrics, sounds, review, tour, something\n",
      "Topic 08: facebook, internet, online, twitter, users, google, media, people, company, amazon, social, technology, digital, news, content, data, mobile, site, video, tech\n",
      "Topic 09: labour, party, corbyn, cameron, referendum, voters, brexit, vote, leader, johnson, tory, campaign, ukip, mps, minister, remain, prime, leave, conservative, election\n",
      "Topic 10: health, mental, people, children, services, care, illness, depression, young, social, problems, help, support, alcohol, treatment, disease, work, schools, report, research\n",
      "Topic 11: brexit, growth, uk, economy, pound, prices, markets, market, rates, inflation, economic, rate, vote, interest, sales, referendum, business, fall, low, price\n",
      "Topic 12: league, leicester, season, premier, football, club, city, players, clubs, manchester, champions, team, ranieri, united, arsenal, fans, manager, chelsea, title, vardy\n",
      "Topic 13: women, abortion, woman, men, ireland, female, cancer, girls, northern, rights, gender, sex, sexual, abortions, pregnancy, male, court, life, reproductive, law\n",
      "Topic 14: clinton, sanders, cruz, hillary, republican, trump, rubio, democratic, campaign, state, senator, voters, presidential, bernie, party, election, delegates, vote, obama, debate\n",
      "Topic 15: commission, government, labor, royal, turnbull, banks, australia, financial, asic, inquiry, australian, shorten, committee, banking, greens, bill, powers, industry, coalition, minister\n"
     ]
    }
   ],
   "source": [
    "k = best_k\n",
    "# get the model that we generated earlier.\n",
    "W = topic_models[k-kmin][1]\n",
    "H = topic_models[k-kmin][2]\n",
    "\n",
    "for topic_index in range(k):\n",
    "    descriptor = get_descriptor( terms, H, topic_index, 20 )\n",
    "    str_descriptor = \", \".join( descriptor )\n",
    "    print(\"Topic %02d: %s\" % ( topic_index+1, str_descriptor ) )"
   ]
  },
  {
   "cell_type": "code",
   "execution_count": 49,
   "metadata": {},
   "outputs": [
    {
     "name": "stdout",
     "output_type": "stream",
     "text": [
      "K=04: Coherence=258.5439\n",
      "K=05: Coherence=288.6032\n",
      "K=06: Coherence=315.0272\n",
      "K=07: Coherence=342.5912\n",
      "K=08: Coherence=374.8193\n",
      "K=09: Coherence=377.2525\n",
      "K=10: Coherence=401.0942\n",
      "K=11: Coherence=407.7090\n",
      "K=12: Coherence=423.8901\n",
      "K=13: Coherence=437.3284\n",
      "K=14: Coherence=443.4574\n",
      "K=15: Coherence=443.4577\n"
     ]
    }
   ],
   "source": [
    "#UCI\n",
    "from math import log\n",
    "from itertools import combinations\n",
    "\n",
    "\n",
    "def calculate_coherence( w2v_model, term_rankings ):\n",
    "    overall_coherence = 0.0\n",
    "    for topic_index in range(len(term_rankings)):\n",
    "        # check each pair of terms\n",
    "        pair_scores = []\n",
    "        for pair in combinations( term_rankings[topic_index], 2 ):\n",
    "            texts_2w = 0\n",
    "            texts_1stw = 0\n",
    "            texts_2ndw = 0\n",
    "            #pair_scores.append( w2v_model.similarity(pair[0], pair[1]) )\n",
    "            for topic_ind2 in range(len(term_rankings)):\n",
    "                if pair[0] in term_rankings[topic_ind2] and pair[1] in term_rankings[topic_ind2]:\n",
    "                    texts_2w += 1\n",
    "                if pair[0] in term_rankings[topic_ind2]:\n",
    "                    texts_1stw += 1\n",
    "                if pair[1] in term_rankings[topic_ind2]:\n",
    "                    texts_2ndw += 1\n",
    "            pair_prob = log((10**-12 + texts_2w / len(term_rankings)) / ((texts_1stw / len(term_rankings))*texts_1stw / len(term_rankings)))\n",
    "            pair_scores.append(pair_prob)\n",
    "        # get the sum for all pairs in this topic\n",
    "        topic_score = sum(pair_scores)\n",
    "        overall_coherence += topic_score\n",
    "    # get the mean score across all topics\n",
    "    return overall_coherence / len(term_rankings)\n",
    "\n",
    "\n",
    "k_values = []\n",
    "coherences = []\n",
    "for (k,W,H) in topic_models:\n",
    "    # Get all of the topic descriptors - the term_rankings, based on top 20 terms\n",
    "    term_rankings = []\n",
    "    for topic_index in range(k):\n",
    "        term_rankings.append( get_descriptor( terms, H, topic_index, 20 ) )\n",
    "    # Now calculate the coherence based on our Word2vec model\n",
    "    k_values.append( k )\n",
    "    coherences.append( calculate_coherence( w2v_model, term_rankings ) )\n",
    "    #print(term_rankings)\n",
    "    print(\"K=%02d: Coherence=%.4f\" % ( k, coherences[-1] ) )"
   ]
  },
  {
   "cell_type": "code",
   "execution_count": 50,
   "metadata": {
    "scrolled": false
   },
   "outputs": [
    {
     "data": {
      "image/png": "[encoded data removed]",
      "text/plain": [
       "<matplotlib.figure.Figure at 0xc63a9bcf8>"
      ]
     },
     "metadata": {},
     "output_type": "display_data"
    }
   ],
   "source": [
    "fig = plt.figure(figsize=(13,7))\n",
    "# create the line plot\n",
    "ax = plt.plot( k_values, coherences )\n",
    "plt.xticks(k_values)\n",
    "plt.xlabel(\"Number of Topics\")\n",
    "plt.ylabel(\"Mean Coherence\")\n",
    "# add the points\n",
    "plt.scatter( k_values, coherences, s=120)\n",
    "# find and annotate the maximum point on the plot\n",
    "ymax = max(coherences)\n",
    "xpos = coherences.index(ymax)\n",
    "best_k = k_values[xpos]\n",
    "plt.annotate( \"k=%d\" % best_k, xy=(best_k, ymax), xytext=(best_k, ymax), textcoords=\"offset points\", fontsize=16)\n",
    "# show the plot\n",
    "plt.show()"
   ]
  },
  {
   "cell_type": "code",
   "execution_count": 51,
   "metadata": {},
   "outputs": [
    {
     "name": "stdout",
     "output_type": "stream",
     "text": [
      "Topic 01: eu, uk, britain, brexit, european, leave, europe, referendum, british, vote, trade, cameron, minister, union, government, deal, remain, prime, negotiations, brussels\n",
      "Topic 02: trump, donald, president, republican, campaign, america, obama, white, presidential, american, election, people, nominee, candidate, elect, political, country, americans, house, pence\n",
      "Topic 03: film, films, movie, star, director, hollywood, actor, story, drama, cinema, festival, life, character, best, black, movies, oscar, screen, comedy, man\n",
      "Topic 04: ball, goal, liverpool, game, half, palace, united, corner, shot, back, everton, west, swansea, minutes, sunderland, team, arsenal, left, chelsea, kick\n",
      "Topic 05: bank, banks, banking, rbs, deutsche, customers, barclays, financial, shares, hsbc, lloyds, capital, investors, executive, crisis, chief, pay, accounts, branches, mortgage\n",
      "Topic 06: nhs, doctors, patients, care, junior, hospital, health, hunt, patient, staff, medical, bma, doctor, healthcare, hospitals, contract, services, england, social, government\n",
      "Topic 07: album, music, band, song, pop, songs, rock, love, sound, bowie, guitar, singer, track, record, time, lyrics, sounds, review, tour, something\n",
      "Topic 08: facebook, internet, online, twitter, users, google, media, people, company, amazon, social, technology, digital, news, content, data, mobile, site, video, tech\n",
      "Topic 09: labour, party, corbyn, cameron, referendum, voters, brexit, vote, leader, johnson, tory, campaign, ukip, mps, minister, remain, prime, leave, conservative, election\n",
      "Topic 10: health, mental, people, children, services, care, illness, depression, young, social, problems, help, support, alcohol, treatment, disease, work, schools, report, research\n",
      "Topic 11: brexit, growth, uk, economy, pound, prices, markets, market, rates, inflation, economic, rate, vote, interest, sales, referendum, business, fall, low, price\n",
      "Topic 12: league, leicester, season, premier, football, club, city, players, clubs, manchester, champions, team, ranieri, united, arsenal, fans, manager, chelsea, title, vardy\n",
      "Topic 13: women, abortion, woman, men, ireland, female, cancer, girls, northern, rights, gender, sex, sexual, abortions, pregnancy, male, court, life, reproductive, law\n",
      "Topic 14: clinton, sanders, cruz, hillary, republican, trump, rubio, democratic, campaign, state, senator, voters, presidential, bernie, party, election, delegates, vote, obama, debate\n",
      "Topic 15: commission, government, labor, royal, turnbull, banks, australia, financial, asic, inquiry, australian, shorten, committee, banking, greens, bill, powers, industry, coalition, minister\n"
     ]
    }
   ],
   "source": [
    "k = best_k\n",
    "# get the model that we generated earlier.\n",
    "W = topic_models[k-kmin][1]\n",
    "H = topic_models[k-kmin][2]\n",
    "\n",
    "for topic_index in range(k):\n",
    "    descriptor = get_descriptor( terms, H, topic_index, 20 )\n",
    "    str_descriptor = \", \".join( descriptor )\n",
    "    print(\"Topic %02d: %s\" % ( topic_index+1, str_descriptor ) )"
   ]
  },
  {
   "cell_type": "code",
   "execution_count": 52,
   "metadata": {},
   "outputs": [
    {
     "name": "stdout",
     "output_type": "stream",
     "text": [
      "K=04: Coherence=-2.4260\n",
      "K=05: Coherence=-8.4564\n",
      "K=06: Coherence=-12.4725\n",
      "K=07: Coherence=-13.2688\n",
      "K=08: Coherence=-9.9640\n",
      "K=09: Coherence=-18.1847\n",
      "K=10: Coherence=-16.4656\n",
      "K=11: Coherence=-21.4167\n",
      "K=12: Coherence=-21.4564\n",
      "K=13: Coherence=-22.2797\n",
      "K=14: Coherence=-25.8373\n",
      "K=15: Coherence=-31.9542\n"
     ]
    }
   ],
   "source": [
    "#Umass\n",
    "\n",
    "from math import log\n",
    "from itertools import combinations\n",
    "\n",
    "\n",
    "def calculate_coherence( w2v_model, term_rankings ):\n",
    "    overall_coherence = 0.0\n",
    "    for topic_index in range(len(term_rankings)):\n",
    "        # check each pair of terms\n",
    "        pair_scores = []\n",
    "        for pair in combinations( term_rankings[topic_index], 2 ):\n",
    "            texts_2w = 0 #two words probability\n",
    "            texts_1stw = 0 #probability of firts word in pair\n",
    "            #pair_scores.append( w2v_model.similarity(pair[0], pair[1]) )\n",
    "            for topic_ind2 in range(len(term_rankings)):\n",
    "                if pair[0] in term_rankings[topic_ind2] and pair[1] in term_rankings[topic_ind2]:\n",
    "                    texts_2w += 1\n",
    "                if pair[0] in term_rankings[topic_ind2]:\n",
    "                    texts_1stw += 1\n",
    "            pair_prob = log((10**-12 + texts_2w / len(term_rankings)) / (texts_1stw / len(term_rankings)))\n",
    "            pair_scores.append(pair_prob)\n",
    "        # get the sum for all pairs in this topic\n",
    "        topic_score = sum(pair_scores)\n",
    "        overall_coherence += topic_score\n",
    "    # get the mean score across all topics\n",
    "    return overall_coherence / len(term_rankings)\n",
    "\n",
    "\n",
    "k_values = []\n",
    "coherences = []\n",
    "for (k,W,H) in topic_models:\n",
    "    # Get all of the topic descriptors - the term_rankings, based on top 20 terms\n",
    "    term_rankings = []\n",
    "    for topic_index in range(k):\n",
    "        term_rankings.append( get_descriptor( terms, H, topic_index, 20 ) )\n",
    "    # Now calculate the coherence based on our Word2vec model\n",
    "    k_values.append( k )\n",
    "    coherences.append( calculate_coherence( w2v_model, term_rankings ) )\n",
    "    #print(term_rankings)\n",
    "    print(\"K=%02d: Coherence=%.4f\" % ( k, coherences[-1] ) )"
   ]
  },
  {
   "cell_type": "code",
   "execution_count": 53,
   "metadata": {},
   "outputs": [
    {
     "data": {
      "image/png": "[encoded data removed]",
      "text/plain": [
       "<matplotlib.figure.Figure at 0xc63aade48>"
      ]
     },
     "metadata": {},
     "output_type": "display_data"
    }
   ],
   "source": [
    "fig = plt.figure(figsize=(13,7))\n",
    "# create the line plot\n",
    "ax = plt.plot( k_values, coherences )\n",
    "plt.xticks(k_values)\n",
    "plt.xlabel(\"Number of Topics\")\n",
    "plt.ylabel(\"Mean Coherence\")\n",
    "# add the points\n",
    "plt.scatter( k_values, coherences, s=120)\n",
    "# find and annotate the maximum point on the plot\n",
    "ymax = max(coherences)\n",
    "xpos = coherences.index(ymax)\n",
    "best_k = k_values[xpos]\n",
    "plt.annotate( \"k=%d\" % best_k, xy=(best_k, ymax), xytext=(best_k, ymax), textcoords=\"offset points\", fontsize=16)\n",
    "# show the plot\n",
    "plt.show()"
   ]
  },
  {
   "cell_type": "code",
   "execution_count": 54,
   "metadata": {},
   "outputs": [
    {
     "name": "stdout",
     "output_type": "stream",
     "text": [
      "Topic 01: eu, brexit, uk, britain, bank, referendum, vote, leave, european, government, cameron, labour, minister, europe, banks, british, market, remain, prime, trade\n",
      "Topic 02: trump, clinton, republican, donald, campaign, president, hillary, cruz, sanders, election, presidential, obama, party, candidate, nominee, state, america, women, rubio, voters\n",
      "Topic 03: film, people, music, health, album, life, time, women, care, get, nhs, work, world, really, mental, band, love, song, way, pop\n",
      "Topic 04: league, season, leicester, premier, goal, united, city, liverpool, game, ball, team, players, arsenal, manchester, chelsea, football, club, palace, half, manager\n"
     ]
    }
   ],
   "source": [
    "k = best_k\n",
    "# get the model that we generated earlier.\n",
    "W = topic_models[k-kmin][1]\n",
    "H = topic_models[k-kmin][2]\n",
    "\n",
    "for topic_index in range(k):\n",
    "    descriptor = get_descriptor( terms, H, topic_index, 20 )\n",
    "    str_descriptor = \", \".join( descriptor )\n",
    "    print(\"Topic %02d: %s\" % ( topic_index+1, str_descriptor ) )"
   ]
  },
  {
   "cell_type": "code",
   "execution_count": null,
   "metadata": {
    "collapsed": true
   },
   "outputs": [],
   "source": []
  },
  {
   "cell_type": "code",
   "execution_count": 55,
   "metadata": {
    "collapsed": true
   },
   "outputs": [],
   "source": [
    "#Aplly LSA\n",
    "\n",
    "from sklearn.decomposition import TruncatedSVD\n",
    "k = 10\n",
    "model = TruncatedSVD(n_components=k ) \n",
    "\n",
    "W = model.fit_transform( A )\n",
    "H = model.components_"
   ]
  },
  {
   "cell_type": "code",
   "execution_count": 56,
   "metadata": {},
   "outputs": [
    {
     "data": {
      "text/plain": [
       "array([ 0.09, -0.1 ,  0.19,  0.1 , -0.09, -0.04,  0.01, -0.02, -0.08, -0.03])"
      ]
     },
     "execution_count": 56,
     "metadata": {},
     "output_type": "execute_result"
    }
   ],
   "source": [
    "W.shape\n",
    "W[0,:].round(2)\n",
    "H.shape\n",
    "H[:,terms.index('brexit')].round(2)"
   ]
  },
  {
   "cell_type": "code",
   "execution_count": 59,
   "metadata": {},
   "outputs": [
    {
     "name": "stdout",
     "output_type": "stream",
     "text": [
      "Topic 01: trump, eu, people, clinton, uk, brexit, campaign, time, vote, film, bank, party, government, britain, donald, back, women, get, leave, think\n",
      "Topic 02: trump, clinton, republican, donald, hillary, cruz, president, sanders, presidential, campaign, obama, nominee, election, candidate, rubio, america, senator, democratic, state, republicans\n",
      "Topic 03: eu, brexit, uk, britain, vote, referendum, leave, european, bank, cameron, government, minister, labour, europe, trade, prime, campaign, remain, party, market\n",
      "Topic 04: league, eu, season, leicester, premier, goal, united, liverpool, ball, city, players, arsenal, game, brexit, chelsea, team, manchester, palace, football, trump\n",
      "Topic 05: bank, banks, banking, financial, customers, rbs, shares, deutsche, barclays, lloyds, hsbc, investors, rates, chief, health, rate, executive, pay, interest, royal\n",
      "Topic 06: health, nhs, care, mental, patients, doctors, hospital, people, social, services, junior, patient, healthcare, hunt, medical, children, cancer, staff, treatment, hospitals\n",
      "Topic 07: album, music, song, band, songs, pop, rock, bowie, sound, guitar, track, singer, lyrics, record, sounds, albums, love, nhs, tour, tracks\n",
      "Topic 08: facebook, internet, online, google, twitter, users, media, company, amazon, technology, data, people, digital, content, mobile, social, companies, tech, abuse, women\n",
      "Topic 09: labour, party, corbyn, bank, cameron, voters, mps, campaign, leader, election, clinton, tory, ukip, johnson, banks, minister, prime, jeremy, mp, conservative\n",
      "Topic 10: women, mental, abortion, health, bank, people, woman, men, ireland, children, young, northern, girls, cancer, female, banks, deutsche, depression, rights, life\n"
     ]
    }
   ],
   "source": [
    "# show topic descriptors\n",
    "def get_descriptor( terms, H, topic_index, top ):\n",
    "    top_indices = np.argsort( H[topic_index,:] )[::-1]\n",
    "    top_terms = []\n",
    "    for term_index in top_indices[0:top]:\n",
    "        top_terms.append( terms[term_index] )\n",
    "    return top_terms\n",
    "\n",
    "descriptors = []\n",
    "for topic_index in range(k):\n",
    "    descriptors.append( get_descriptor( terms, H, topic_index, 20 ) )\n",
    "    str_descriptor = \", \".join( descriptors[topic_index] )\n",
    "    print(\"Topic %02d: %s\" % ( topic_index+1, str_descriptor ) )"
   ]
  },
  {
   "cell_type": "code",
   "execution_count": 60,
   "metadata": {},
   "outputs": [
    {
     "name": "stdout",
     "output_type": "stream",
     "text": [
      "01. Obama talks trans bathroom access as Trump defends business practices – as it happened Here are the \n",
      "02. Melania Trump defends husband's 'boy talk' in CNN interview – as it happened Speaking to CNN’s Ander\n",
      "03. Hillary Clinton: 'I'm sick of the Sanders campaign's lies' – as it happened One of the most importan\n",
      "04. Donald Trump hits delegate count needed for Republican nomination – as it happened On the one hand, \n",
      "05. Clinton seizes on Trump tweets for day of campaigning in Florida – as it happened Donald Trump was a\n",
      "06. Trump wins Washington primary as protests erupt by Albuquerque rally – as it happened Donald Trump w\n",
      "07. DNC 2016, day three: emotional Obama passes baton to Clinton – as it happened The sun has set on day\n",
      "08. Trump campaign reportedly vetting Christie, Gingrich as potential running mates – as it happened Don\n",
      "09. Donald Trump: money raised by Hillary Clinton is 'blood money' – as it happened Hillary Clinton deli\n",
      "10. Donald Trump: Hillary Clinton has 'no right to be running' – as it happened Deep antipathy to Hillar\n"
     ]
    }
   ],
   "source": [
    "def get_top_snippets( all_snippets, W, topic_index, top ):\n",
    "    top_indices = np.argsort( W[:,topic_index] )[::-1]\n",
    "    top_snippets = []\n",
    "    for doc_index in top_indices[0:top]:\n",
    "        top_snippets.append( all_snippets[doc_index] )\n",
    "    return top_snippets\n",
    "\n",
    "topic_snippets = get_top_snippets( snippets, W, 0, 10 )\n",
    "for i, snippet in enumerate(topic_snippets):\n",
    "    print(\"%02d. %s\" % ( (i+1), snippet ) )"
   ]
  },
  {
   "cell_type": "code",
   "execution_count": 61,
   "metadata": {},
   "outputs": [
    {
     "name": "stderr",
     "output_type": "stream",
     "text": [
      "100%|██████████████████████████████████████████| 12/12 [00:11<00:00,  1.01it/s]\n"
     ]
    }
   ],
   "source": [
    "#Topic coherence\n",
    "\n",
    "kmin, kmax = 4, 15\n",
    "\n",
    "topic_models = []\n",
    "for k in tqdm(range(kmin,kmax+1)):\n",
    "    model = TruncatedSVD(n_components=k ) \n",
    "    W = model.fit_transform( A )\n",
    "    H = model.components_    \n",
    "    topic_models.append( (k,W,H) )"
   ]
  },
  {
   "cell_type": "code",
   "execution_count": 62,
   "metadata": {},
   "outputs": [
    {
     "name": "stdout",
     "output_type": "stream",
     "text": [
      "Model has 12192 terms\n"
     ]
    }
   ],
   "source": [
    "import gensim\n",
    "\n",
    "w2v_model = gensim.models.Word2Vec.load(\"w2v-model.bin\")\n",
    "print( \"Model has %d terms\" % len(w2v_model.wv.vocab) )"
   ]
  },
  {
   "cell_type": "code",
   "execution_count": 64,
   "metadata": {},
   "outputs": [
    {
     "name": "stdout",
     "output_type": "stream",
     "text": [
      "K=04: Coherence=0.3345\n",
      "K=05: Coherence=0.3494\n",
      "K=06: Coherence=0.3640\n",
      "K=07: Coherence=0.3867\n",
      "K=08: Coherence=0.3881\n",
      "K=09: Coherence=0.3852\n",
      "K=10: Coherence=0.3792\n",
      "K=11: Coherence=0.3693\n",
      "K=12: Coherence=0.3606\n",
      "K=13: Coherence=0.3555\n",
      "K=14: Coherence=0.3502\n",
      "K=15: Coherence=0.3452\n"
     ]
    }
   ],
   "source": [
    "#TC-W2C\n",
    "\n",
    "from itertools import combinations\n",
    "\n",
    "\n",
    "def calculate_coherence( w2v_model, term_rankings ):\n",
    "    overall_coherence = 0.0\n",
    "    for topic_index in range(len(term_rankings)):\n",
    "        # check each pair of terms\n",
    "        pair_scores = []\n",
    "        for pair in combinations( term_rankings[topic_index], 2 ):\n",
    "            pair_scores.append( w2v_model.similarity(pair[0], pair[1]) )\n",
    "        # get the mean for all pairs in this topic\n",
    "        topic_score = sum(pair_scores) / len(pair_scores)\n",
    "        overall_coherence += topic_score\n",
    "    # get the mean score across all topics\n",
    "    return overall_coherence / len(term_rankings)\n",
    "\n",
    "\n",
    "k_values = []\n",
    "coherences = []\n",
    "for (k,W,H) in topic_models:\n",
    "    # Get all of the topic descriptors - the term_rankings, based on top 20 terms\n",
    "    term_rankings = []\n",
    "    for topic_index in range(k):\n",
    "        term_rankings.append( get_descriptor( terms, H, topic_index, 20 ) )\n",
    "    # Now calculate the coherence based on our Word2vec model\n",
    "    k_values.append( k )\n",
    "    coherences.append( calculate_coherence( w2v_model, term_rankings ) )\n",
    "    print(\"K=%02d: Coherence=%.4f\" % ( k, coherences[-1] ) )"
   ]
  },
  {
   "cell_type": "code",
   "execution_count": 65,
   "metadata": {},
   "outputs": [
    {
     "data": {
      "image/png": "[encoded data removed]",
      "text/plain": [
       "<matplotlib.figure.Figure at 0xc600f10b8>"
      ]
     },
     "metadata": {},
     "output_type": "display_data"
    }
   ],
   "source": [
    "fig = plt.figure(figsize=(13,7))\n",
    "# create the line plot\n",
    "ax = plt.plot( k_values, coherences )\n",
    "plt.xticks(k_values)\n",
    "plt.xlabel(\"Number of Topics\")\n",
    "plt.ylabel(\"Mean Coherence\")\n",
    "# add the points\n",
    "plt.scatter( k_values, coherences, s=120)\n",
    "# find and annotate the maximum point on the plot\n",
    "ymax = max(coherences)\n",
    "xpos = coherences.index(ymax)\n",
    "best_k = k_values[xpos]\n",
    "plt.annotate( \"k=%d\" % best_k, xy=(best_k, ymax), xytext=(best_k, ymax), textcoords=\"offset points\", fontsize=16)\n",
    "# show the plot\n",
    "plt.show()"
   ]
  },
  {
   "cell_type": "code",
   "execution_count": 66,
   "metadata": {},
   "outputs": [
    {
     "name": "stdout",
     "output_type": "stream",
     "text": [
      "Topic 01: trump, eu, people, clinton, uk, brexit, campaign, time, vote, film, bank, party, government, britain, donald, back, women, get, leave, think\n",
      "Topic 02: trump, clinton, republican, donald, hillary, cruz, president, sanders, presidential, campaign, obama, nominee, election, candidate, rubio, america, senator, democratic, state, republicans\n",
      "Topic 03: eu, brexit, uk, britain, vote, referendum, leave, european, bank, cameron, government, minister, labour, europe, trade, prime, campaign, remain, party, market\n",
      "Topic 04: league, eu, season, leicester, premier, goal, united, liverpool, ball, city, players, arsenal, game, brexit, chelsea, team, manchester, palace, football, trump\n",
      "Topic 05: bank, banks, banking, financial, customers, rbs, shares, deutsche, barclays, lloyds, hsbc, investors, rates, chief, health, rate, executive, pay, interest, royal\n",
      "Topic 06: health, nhs, care, mental, patients, doctors, hospital, people, social, services, junior, patient, healthcare, hunt, medical, children, cancer, staff, treatment, hospitals\n",
      "Topic 07: album, music, band, song, songs, pop, rock, sound, bowie, guitar, track, singer, lyrics, record, sounds, albums, love, tour, nhs, tracks\n",
      "Topic 08: facebook, internet, online, google, users, twitter, amazon, media, company, technology, data, people, digital, content, mobile, companies, women, social, tech, abuse\n"
     ]
    }
   ],
   "source": [
    "k = best_k\n",
    "# get the model that we generated earlier.\n",
    "W = topic_models[k-kmin][1]\n",
    "H = topic_models[k-kmin][2]\n",
    "\n",
    "for topic_index in range(k):\n",
    "    descriptor = get_descriptor( terms, H, topic_index, 20 )\n",
    "    str_descriptor = \", \".join( descriptor )\n",
    "    print(\"Topic %02d: %s\" % ( topic_index+1, str_descriptor ) )"
   ]
  },
  {
   "cell_type": "code",
   "execution_count": 68,
   "metadata": {},
   "outputs": [
    {
     "name": "stdout",
     "output_type": "stream",
     "text": [
      "K=04: Coherence=128.7654\n",
      "K=05: Coherence=186.4956\n",
      "K=06: Coherence=228.5430\n",
      "K=07: Coherence=269.8552\n",
      "K=08: Coherence=299.9735\n",
      "K=09: Coherence=295.3372\n",
      "K=10: Coherence=299.5994\n",
      "K=11: Coherence=280.3750\n",
      "K=12: Coherence=264.8417\n",
      "K=13: Coherence=252.9619\n",
      "K=14: Coherence=236.4122\n",
      "K=15: Coherence=228.5630\n"
     ]
    }
   ],
   "source": [
    "#UCI\n",
    "from math import log\n",
    "from itertools import combinations\n",
    "\n",
    "\n",
    "def calculate_coherence( w2v_model, term_rankings ):\n",
    "    overall_coherence = 0.0\n",
    "    for topic_index in range(len(term_rankings)):\n",
    "        # check each pair of terms\n",
    "        pair_scores = []\n",
    "        for pair in combinations( term_rankings[topic_index], 2 ):\n",
    "            texts_2w = 0\n",
    "            texts_1stw = 0\n",
    "            texts_2ndw = 0\n",
    "            #pair_scores.append( w2v_model.similarity(pair[0], pair[1]) )\n",
    "            for topic_ind2 in range(len(term_rankings)):\n",
    "                if pair[0] in term_rankings[topic_ind2] and pair[1] in term_rankings[topic_ind2]:\n",
    "                    texts_2w += 1\n",
    "                if pair[0] in term_rankings[topic_ind2]:\n",
    "                    texts_1stw += 1\n",
    "                if pair[1] in term_rankings[topic_ind2]:\n",
    "                    texts_2ndw += 1\n",
    "            pair_prob = log((10**-12 + texts_2w / len(term_rankings)) / ((texts_1stw / len(term_rankings))*texts_1stw / len(term_rankings)))\n",
    "            pair_scores.append(pair_prob)\n",
    "        # get the sum for all pairs in this topic\n",
    "        topic_score = sum(pair_scores)\n",
    "        overall_coherence += topic_score\n",
    "    # get the mean score across all topics\n",
    "    return overall_coherence / len(term_rankings)\n",
    "\n",
    "\n",
    "k_values = []\n",
    "coherences = []\n",
    "for (k,W,H) in topic_models:\n",
    "    # Get all of the topic descriptors - the term_rankings, based on top 20 terms\n",
    "    term_rankings = []\n",
    "    for topic_index in range(k):\n",
    "        term_rankings.append( get_descriptor( terms, H, topic_index, 20 ) )\n",
    "    # Now calculate the coherence based on our Word2vec model\n",
    "    k_values.append( k )\n",
    "    coherences.append( calculate_coherence( w2v_model, term_rankings ) )\n",
    "    #print(term_rankings)\n",
    "    print(\"K=%02d: Coherence=%.4f\" % ( k, coherences[-1] ) )"
   ]
  },
  {
   "cell_type": "code",
   "execution_count": 69,
   "metadata": {},
   "outputs": [
    {
     "data": {
      "image/png": "[encoded data removed]",
      "text/plain": [
       "<matplotlib.figure.Figure at 0xc5ff32668>"
      ]
     },
     "metadata": {},
     "output_type": "display_data"
    }
   ],
   "source": [
    "fig = plt.figure(figsize=(13,7))\n",
    "# create the line plot\n",
    "ax = plt.plot( k_values, coherences )\n",
    "plt.xticks(k_values)\n",
    "plt.xlabel(\"Number of Topics\")\n",
    "plt.ylabel(\"Mean Coherence\")\n",
    "# add the points\n",
    "plt.scatter( k_values, coherences, s=120)\n",
    "# find and annotate the maximum point on the plot\n",
    "ymax = max(coherences)\n",
    "xpos = coherences.index(ymax)\n",
    "best_k = k_values[xpos]\n",
    "plt.annotate( \"k=%d\" % best_k, xy=(best_k, ymax), xytext=(best_k, ymax), textcoords=\"offset points\", fontsize=16)\n",
    "# show the plot\n",
    "plt.show()"
   ]
  },
  {
   "cell_type": "code",
   "execution_count": 70,
   "metadata": {},
   "outputs": [
    {
     "name": "stdout",
     "output_type": "stream",
     "text": [
      "Topic 01: trump, eu, people, clinton, uk, brexit, campaign, time, vote, film, bank, party, government, britain, donald, back, women, get, leave, think\n",
      "Topic 02: trump, clinton, republican, donald, hillary, cruz, president, sanders, presidential, campaign, obama, nominee, election, candidate, rubio, america, senator, democratic, state, republicans\n",
      "Topic 03: eu, brexit, uk, britain, vote, referendum, leave, european, bank, cameron, government, minister, labour, europe, trade, prime, campaign, remain, party, market\n",
      "Topic 04: league, eu, season, leicester, premier, goal, united, liverpool, ball, city, players, arsenal, game, brexit, chelsea, team, manchester, palace, football, trump\n",
      "Topic 05: bank, banks, banking, financial, customers, rbs, shares, deutsche, barclays, lloyds, hsbc, investors, rates, chief, health, rate, executive, pay, interest, royal\n",
      "Topic 06: health, nhs, care, mental, patients, doctors, hospital, people, social, services, junior, patient, healthcare, hunt, medical, children, cancer, staff, treatment, hospitals\n",
      "Topic 07: album, music, band, song, songs, pop, rock, sound, bowie, guitar, track, singer, lyrics, record, sounds, albums, love, tour, nhs, tracks\n",
      "Topic 08: facebook, internet, online, google, users, twitter, amazon, media, company, technology, data, people, digital, content, mobile, companies, women, social, tech, abuse\n"
     ]
    }
   ],
   "source": [
    "k = best_k\n",
    "# get the model that we generated earlier.\n",
    "W = topic_models[k-kmin][1]\n",
    "H = topic_models[k-kmin][2]\n",
    "\n",
    "for topic_index in range(k):\n",
    "    descriptor = get_descriptor( terms, H, topic_index, 20 )\n",
    "    str_descriptor = \", \".join( descriptor )\n",
    "    print(\"Topic %02d: %s\" % ( topic_index+1, str_descriptor ) )"
   ]
  },
  {
   "cell_type": "code",
   "execution_count": 71,
   "metadata": {},
   "outputs": [
    {
     "name": "stdout",
     "output_type": "stream",
     "text": [
      "K=04: Coherence=-57.8924\n",
      "K=05: Coherence=-52.1105\n",
      "K=06: Coherence=-49.6637\n",
      "K=07: Coherence=-44.5493\n",
      "K=08: Coherence=-42.6755\n",
      "K=09: Coherence=-54.2990\n",
      "K=10: Coherence=-62.2472\n",
      "K=11: Coherence=-79.4029\n",
      "K=12: Coherence=-94.2496\n",
      "K=13: Coherence=-105.9831\n",
      "K=14: Coherence=-117.7408\n",
      "K=15: Coherence=-127.8348\n"
     ]
    }
   ],
   "source": [
    "#Umass\n",
    "\n",
    "from math import log\n",
    "from itertools import combinations\n",
    "\n",
    "\n",
    "def calculate_coherence( w2v_model, term_rankings ):\n",
    "    overall_coherence = 0.0\n",
    "    for topic_index in range(len(term_rankings)):\n",
    "        # check each pair of terms\n",
    "        pair_scores = []\n",
    "        for pair in combinations( term_rankings[topic_index], 2 ):\n",
    "            texts_2w = 0 #two words probability\n",
    "            texts_1stw = 0 #probability of firts word in pair\n",
    "            #pair_scores.append( w2v_model.similarity(pair[0], pair[1]) )\n",
    "            for topic_ind2 in range(len(term_rankings)):\n",
    "                if pair[0] in term_rankings[topic_ind2] and pair[1] in term_rankings[topic_ind2]:\n",
    "                    texts_2w += 1\n",
    "                if pair[0] in term_rankings[topic_ind2]:\n",
    "                    texts_1stw += 1\n",
    "            pair_prob = log((10**-12 + texts_2w / len(term_rankings)) / (texts_1stw / len(term_rankings)))\n",
    "            pair_scores.append(pair_prob)\n",
    "        # get the sum for all pairs in this topic\n",
    "        topic_score = sum(pair_scores)\n",
    "        overall_coherence += topic_score\n",
    "    # get the mean score across all topics\n",
    "    return overall_coherence / len(term_rankings)\n",
    "\n",
    "\n",
    "k_values = []\n",
    "coherences = []\n",
    "for (k,W,H) in topic_models:\n",
    "    # Get all of the topic descriptors - the term_rankings, based on top 20 terms\n",
    "    term_rankings = []\n",
    "    for topic_index in range(k):\n",
    "        term_rankings.append( get_descriptor( terms, H, topic_index, 20 ) )\n",
    "    # Now calculate the coherence based on our Word2vec model\n",
    "    k_values.append( k )\n",
    "    coherences.append( calculate_coherence( w2v_model, term_rankings ) )\n",
    "    #print(term_rankings)\n",
    "    print(\"K=%02d: Coherence=%.4f\" % ( k, coherences[-1] ) )"
   ]
  },
  {
   "cell_type": "code",
   "execution_count": 72,
   "metadata": {},
   "outputs": [
    {
     "data": {
      "image/png": "[encoded data removed]",
      "text/plain": [
       "<matplotlib.figure.Figure at 0xc607944e0>"
      ]
     },
     "metadata": {},
     "output_type": "display_data"
    }
   ],
   "source": [
    "fig = plt.figure(figsize=(13,7))\n",
    "# create the line plot\n",
    "ax = plt.plot( k_values, coherences )\n",
    "plt.xticks(k_values)\n",
    "plt.xlabel(\"Number of Topics\")\n",
    "plt.ylabel(\"Mean Coherence\")\n",
    "# add the points\n",
    "plt.scatter( k_values, coherences, s=120)\n",
    "# find and annotate the maximum point on the plot\n",
    "ymax = max(coherences)\n",
    "xpos = coherences.index(ymax)\n",
    "best_k = k_values[xpos]\n",
    "plt.annotate( \"k=%d\" % best_k, xy=(best_k, ymax), xytext=(best_k, ymax), textcoords=\"offset points\", fontsize=16)\n",
    "# show the plot\n",
    "plt.show()"
   ]
  },
  {
   "cell_type": "code",
   "execution_count": 73,
   "metadata": {},
   "outputs": [
    {
     "name": "stdout",
     "output_type": "stream",
     "text": [
      "Topic 01: trump, eu, people, clinton, uk, brexit, campaign, time, vote, film, bank, party, government, britain, donald, back, women, get, leave, think\n",
      "Topic 02: trump, clinton, republican, donald, hillary, cruz, president, sanders, presidential, campaign, obama, nominee, election, candidate, rubio, america, senator, democratic, state, republicans\n",
      "Topic 03: eu, brexit, uk, britain, vote, referendum, leave, european, bank, cameron, government, minister, labour, europe, trade, prime, campaign, remain, party, market\n",
      "Topic 04: league, eu, season, leicester, premier, goal, united, liverpool, ball, city, players, arsenal, game, brexit, chelsea, team, manchester, palace, football, trump\n",
      "Topic 05: bank, banks, banking, financial, customers, rbs, shares, deutsche, barclays, lloyds, hsbc, investors, rates, chief, health, rate, executive, pay, interest, royal\n",
      "Topic 06: health, nhs, care, mental, patients, doctors, hospital, people, social, services, junior, patient, healthcare, hunt, medical, children, cancer, staff, treatment, hospitals\n",
      "Topic 07: album, music, band, song, songs, pop, rock, sound, bowie, guitar, track, singer, lyrics, record, sounds, albums, love, tour, nhs, tracks\n",
      "Topic 08: facebook, internet, online, google, users, twitter, amazon, media, company, technology, data, people, digital, content, mobile, companies, women, social, tech, abuse\n"
     ]
    }
   ],
   "source": [
    "k = best_k\n",
    "# get the model that we generated earlier.\n",
    "W = topic_models[k-kmin][1]\n",
    "H = topic_models[k-kmin][2]\n",
    "\n",
    "for topic_index in range(k):\n",
    "    descriptor = get_descriptor( terms, H, topic_index, 20 )\n",
    "    str_descriptor = \", \".join( descriptor )\n",
    "    print(\"Topic %02d: %s\" % ( topic_index+1, str_descriptor ) )"
   ]
  },
  {
   "cell_type": "code",
   "execution_count": 74,
   "metadata": {
    "collapsed": true
   },
   "outputs": [],
   "source": [
    "#Apply LDA\n",
    "\n",
    "from sklearn.decomposition import LatentDirichletAllocation\n",
    "\n",
    "# create the model\n",
    "k = 10\n",
    "model = LatentDirichletAllocation(n_components=k, max_iter=5,\n",
    "                                learning_method='batch',\n",
    "                                learning_offset=50.,\n",
    "                                random_state=1)\n",
    "\n",
    "W = model.fit_transform( A )\n",
    "H = model.components_"
   ]
  },
  {
   "cell_type": "code",
   "execution_count": 75,
   "metadata": {},
   "outputs": [
    {
     "data": {
      "text/plain": [
       "array([  0.1 ,  67.76,   0.1 ,   0.1 ,   0.41,   0.1 ,   0.1 ,   0.1 ,\n",
       "         0.1 ,   0.1 ])"
      ]
     },
     "execution_count": 75,
     "metadata": {},
     "output_type": "execute_result"
    }
   ],
   "source": [
    "W.shape\n",
    "W[0,:].round(2)\n",
    "H.shape\n",
    "H[:,terms.index('brexit')].round(2)"
   ]
  },
  {
   "cell_type": "code",
   "execution_count": 76,
   "metadata": {},
   "outputs": [
    {
     "name": "stdout",
     "output_type": "stream",
     "text": [
      "Topic 01: league, season, leicester, premier, goal, liverpool, ball, game, united, players, team, city, arsenal, football, chelsea, club, manchester, half, manager, everton\n",
      "Topic 02: trump, eu, bank, uk, people, brexit, clinton, government, vote, campaign, britain, health, party, referendum, leave, banks, nhs, european, financial, donald\n",
      "Topic 03: promoter, prize, entries, tickets, barclays, winners, competition, details, n1, entry, teamed, reserves, kings, liability, failings, injury, promotion, entered, passion, lifetime\n",
      "Topic 04: vile, carrie, lawrence, affleck, congratulations, maternal, shrinking, plainly, tube, cliff, psychiatric, undeniable, toddler, revenant, electing, flashes, staffers, insufficient, reversing, complacent\n",
      "Topic 05: film, album, music, people, life, time, pop, band, song, songs, love, movie, world, get, best, star, something, films, really, work\n",
      "Topic 06: groping, gibson, owes, mel, congratulations, maternal, shrinking, plainly, tube, psychiatric, undeniable, toddler, electing, staffers, flashes, insufficient, reversing, complacent, daniels, scorn\n",
      "Topic 07: rhodes, lou, congratulations, maternal, shrinking, plainly, angels, tube, psychiatric, undeniable, toddler, electing, staffers, flashes, insufficient, reversing, complacent, daniels, scorn, packs\n",
      "Topic 08: shaun, sheep, wallace, der, originated, chairman, rip, burton, debuted, die, heights, 1995, congratulations, maternal, shrinking, greater, plainly, excited, nick, board\n",
      "Topic 09: radiohead, lisbon, jonny, imminent, manuel, dividends, overhaul, tame, invoke, switzerland, socialism, evaluation, disposal, appalled, forwards, airports, announce, holders, deciding, 9am\n",
      "Topic 10: yoga, bma, zac, junior, oddity, fred, doctors, tube, hunt, incorporated, profession, porter, needless, teachers, contract, doctor, teacher, medical, strokes, injury\n"
     ]
    }
   ],
   "source": [
    "# show topic descriptors\n",
    "def get_descriptor( terms, H, topic_index, top ):\n",
    "    top_indices = np.argsort( H[topic_index,:] )[::-1]\n",
    "    top_terms = []\n",
    "    for term_index in top_indices[0:top]:\n",
    "        top_terms.append( terms[term_index] )\n",
    "    return top_terms\n",
    "\n",
    "descriptors = []\n",
    "for topic_index in range(k):\n",
    "    descriptors.append( get_descriptor( terms, H, topic_index, 20 ) )\n",
    "    str_descriptor = \", \".join( descriptors[topic_index] )\n",
    "    print(\"Topic %02d: %s\" % ( topic_index+1, str_descriptor ) )"
   ]
  },
  {
   "cell_type": "code",
   "execution_count": 77,
   "metadata": {},
   "outputs": [
    {
     "name": "stdout",
     "output_type": "stream",
     "text": [
      "01. Christian Eriksen doubles up as Spurs ease to victory against Sunderland Before this game Sam Allard\n",
      "02. Crystal Palace punish Swansea profligacy as Scott Dann grabs point Swansea City stretched their unbe\n",
      "03. Mauricio Pochettino tells Tottenham fans to dream following win at City Mauricio Pochettino said Tot\n",
      "04. Arsène Wenger’s referee complaints ridiculed by Ronald Koeman Ronald Koeman ridiculed Arsène Wenger \n",
      "05. Rafael Benítez aghast after Newcastle surrender meekly at Southampton Rafael Benítez was aghast at N\n",
      "06. Jürgen Klopp says Liverpool cannot complain about defensive tactics Jürgen Klopp said Liverpool have\n",
      "07. Manchester City will not give up title fight, says Manuel Pellegrini Manuel Pellegrini insists that \n",
      "08. Liverpool v West Bromwich Albion: match preview With Liverpool’s sights raised this season Jürgen Kl\n",
      "09. Arsène Wenger: I am not in the mood to dream of Arsenal winning League Arsène Wenger has written off\n",
      "10. Arsenal suffer ‘confidence issue’ as Petr Cech injured in Swansea defeat Arsène Wenger admitted his \n"
     ]
    }
   ],
   "source": [
    "def get_top_snippets( all_snippets, W, topic_index, top ):\n",
    "    top_indices = np.argsort( W[:,topic_index] )[::-1]\n",
    "    top_snippets = []\n",
    "    for doc_index in top_indices[0:top]:\n",
    "        top_snippets.append( all_snippets[doc_index] )\n",
    "    return top_snippets\n",
    "\n",
    "topic_snippets = get_top_snippets( snippets, W, 0, 10 )\n",
    "for i, snippet in enumerate(topic_snippets):\n",
    "    print(\"%02d. %s\" % ( (i+1), snippet ) )"
   ]
  },
  {
   "cell_type": "code",
   "execution_count": 78,
   "metadata": {},
   "outputs": [
    {
     "name": "stderr",
     "output_type": "stream",
     "text": [
      "100%|██████████████████████████████████████████| 12/12 [07:01<00:00, 35.12s/it]\n"
     ]
    }
   ],
   "source": [
    "#Topic coherence\n",
    "\n",
    "kmin, kmax = 4, 15\n",
    "\n",
    "topic_models = []\n",
    "for k in tqdm(range(kmin,kmax+1)):\n",
    "    model = LatentDirichletAllocation(n_components=k, max_iter=5,\n",
    "                                learning_method='batch',\n",
    "                                learning_offset=50.,\n",
    "                                random_state=1)\n",
    "    W = model.fit_transform( A )\n",
    "    H = model.components_    \n",
    "    topic_models.append( (k,W,H) )"
   ]
  },
  {
   "cell_type": "code",
   "execution_count": 79,
   "metadata": {},
   "outputs": [
    {
     "name": "stdout",
     "output_type": "stream",
     "text": [
      "Model has 12192 terms\n"
     ]
    }
   ],
   "source": [
    "import gensim\n",
    "\n",
    "w2v_model = gensim.models.Word2Vec.load(\"w2v-model.bin\")\n",
    "print( \"Model has %d terms\" % len(w2v_model.wv.vocab) )"
   ]
  },
  {
   "cell_type": "code",
   "execution_count": 80,
   "metadata": {},
   "outputs": [
    {
     "name": "stdout",
     "output_type": "stream",
     "text": [
      "K=04: Coherence=0.3704\n",
      "K=05: Coherence=0.3886\n",
      "K=06: Coherence=0.3808\n",
      "K=07: Coherence=0.3728\n",
      "K=08: Coherence=0.4402\n",
      "K=09: Coherence=0.4589\n",
      "K=10: Coherence=0.3830\n",
      "K=11: Coherence=0.4618\n",
      "K=12: Coherence=0.5295\n",
      "K=13: Coherence=0.4242\n",
      "K=14: Coherence=0.4658\n",
      "K=15: Coherence=0.4649\n"
     ]
    }
   ],
   "source": [
    "#TC-W2C\n",
    "\n",
    "from itertools import combinations\n",
    "\n",
    "\n",
    "def calculate_coherence( w2v_model, term_rankings ):\n",
    "    overall_coherence = 0.0\n",
    "    for topic_index in range(len(term_rankings)):\n",
    "        # check each pair of terms\n",
    "        pair_scores = []\n",
    "        for pair in combinations( term_rankings[topic_index], 2 ):\n",
    "            pair_scores.append( w2v_model.similarity(pair[0], pair[1]) )\n",
    "        # get the mean for all pairs in this topic\n",
    "        topic_score = sum(pair_scores) / len(pair_scores)\n",
    "        overall_coherence += topic_score\n",
    "    # get the mean score across all topics\n",
    "    return overall_coherence / len(term_rankings)\n",
    "\n",
    "\n",
    "k_values = []\n",
    "coherences = []\n",
    "for (k,W,H) in topic_models:\n",
    "    # Get all of the topic descriptors - the term_rankings, based on top 20 terms\n",
    "    term_rankings = []\n",
    "    for topic_index in range(k):\n",
    "        term_rankings.append( get_descriptor( terms, H, topic_index, 20 ) )\n",
    "    # Now calculate the coherence based on our Word2vec model\n",
    "    k_values.append( k )\n",
    "    coherences.append( calculate_coherence( w2v_model, term_rankings ) )\n",
    "    print(\"K=%02d: Coherence=%.4f\" % ( k, coherences[-1] ) )"
   ]
  },
  {
   "cell_type": "code",
   "execution_count": 81,
   "metadata": {},
   "outputs": [
    {
     "data": {
      "image/png": "[encoded data removed]",
      "text/plain": [
       "<matplotlib.figure.Figure at 0xc5fe99320>"
      ]
     },
     "metadata": {},
     "output_type": "display_data"
    }
   ],
   "source": [
    "fig = plt.figure(figsize=(13,7))\n",
    "# create the line plot\n",
    "ax = plt.plot( k_values, coherences )\n",
    "plt.xticks(k_values)\n",
    "plt.xlabel(\"Number of Topics\")\n",
    "plt.ylabel(\"Mean Coherence\")\n",
    "# add the points\n",
    "plt.scatter( k_values, coherences, s=120)\n",
    "# find and annotate the maximum point on the plot\n",
    "ymax = max(coherences)\n",
    "xpos = coherences.index(ymax)\n",
    "best_k = k_values[xpos]\n",
    "plt.annotate( \"k=%d\" % best_k, xy=(best_k, ymax), xytext=(best_k, ymax), textcoords=\"offset points\", fontsize=16)\n",
    "# show the plot\n",
    "plt.show()"
   ]
  },
  {
   "cell_type": "code",
   "execution_count": 82,
   "metadata": {},
   "outputs": [
    {
     "name": "stdout",
     "output_type": "stream",
     "text": [
      "Topic 01: league, season, leicester, premier, goal, ball, liverpool, game, united, players, team, arsenal, city, chelsea, manchester, club, football, everton, palace, manager\n",
      "Topic 02: trump, eu, people, uk, brexit, time, health, government, clinton, bank, campaign, women, vote, world, britain, party, get, work, way, think\n",
      "Topic 03: bank, rbs, deutsche, banks, shares, lloyds, barclays, banking, libor, taxpayer, investors, stake, bailout, doj, cryan, capital, ppi, natwest, monte, italian\n",
      "Topic 04: superman, batman, prize, promoter, parker, gibson, entries, marvel, barclays, tickets, mel, superhero, winners, competition, movie, trek, film, details, warner, entry\n",
      "Topic 05: album, film, music, songs, pop, song, band, rock, love, festival, bowie, sound, review, films, star, singer, guitar, movie, track, debut\n",
      "Topic 06: detective, sequences, immersive, orchestral, spins, acclaim, compile, premiered, inventive, revenant, theo, grossed, dutchman, artwork, fer, rhythms, meryl, sonic, vinyl, bfi\n",
      "Topic 07: halves, encore, angel, melancholy, exhilarating, detective, sequences, immersive, orchestral, spins, acclaim, compile, premiered, inventive, revenant, theo, grossed, dutchman, artwork, fer\n",
      "Topic 08: detective, sequences, immersive, orchestral, spins, acclaim, compile, premiered, inventive, revenant, theo, grossed, dutchman, artwork, fer, rhythms, meryl, sonic, vinyl, bfi\n",
      "Topic 09: detective, sequences, immersive, orchestral, spins, acclaim, compile, premiered, inventive, revenant, theo, grossed, dutchman, artwork, fer, rhythms, meryl, sonic, vinyl, bfi\n",
      "Topic 10: milner, lallana, firmino, sturridge, coutinho, mignolet, moreno, henderson, lucas, mané, klopp, jürgen, liverpool, ibe, rudd, philippe, stirring, quartet, alberto, rubbish\n",
      "Topic 11: detective, sequences, immersive, orchestral, spins, acclaim, compile, premiered, inventive, revenant, theo, grossed, dutchman, artwork, fer, rhythms, meryl, sonic, vinyl, bfi\n",
      "Topic 12: detective, sequences, immersive, orchestral, spins, acclaim, compile, premiered, inventive, revenant, theo, grossed, dutchman, artwork, fer, rhythms, meryl, sonic, vinyl, bfi\n"
     ]
    }
   ],
   "source": [
    "k = best_k\n",
    "# get the model that we generated earlier.\n",
    "W = topic_models[k-kmin][1]\n",
    "H = topic_models[k-kmin][2]\n",
    "\n",
    "for topic_index in range(k):\n",
    "    descriptor = get_descriptor( terms, H, topic_index, 20 )\n",
    "    str_descriptor = \", \".join( descriptor )\n",
    "    print(\"Topic %02d: %s\" % ( topic_index+1, str_descriptor ) )"
   ]
  },
  {
   "cell_type": "code",
   "execution_count": 83,
   "metadata": {},
   "outputs": [
    {
     "name": "stdout",
     "output_type": "stream",
     "text": [
      "K=04: Coherence=245.0275\n",
      "K=05: Coherence=285.2760\n",
      "K=06: Coherence=330.4992\n",
      "K=07: Coherence=336.6499\n",
      "K=08: Coherence=352.9326\n",
      "K=09: Coherence=281.6575\n",
      "K=10: Coherence=367.4595\n",
      "K=11: Coherence=351.2774\n",
      "K=12: Coherence=298.1164\n",
      "K=13: Coherence=396.3637\n",
      "K=14: Coherence=436.4271\n",
      "K=15: Coherence=384.8492\n"
     ]
    }
   ],
   "source": [
    "#UCI\n",
    "from math import log\n",
    "from itertools import combinations\n",
    "\n",
    "\n",
    "def calculate_coherence( w2v_model, term_rankings ):\n",
    "    overall_coherence = 0.0\n",
    "    for topic_index in range(len(term_rankings)):\n",
    "        # check each pair of terms\n",
    "        pair_scores = []\n",
    "        for pair in combinations( term_rankings[topic_index], 2 ):\n",
    "            texts_2w = 0\n",
    "            texts_1stw = 0\n",
    "            texts_2ndw = 0\n",
    "            #pair_scores.append( w2v_model.similarity(pair[0], pair[1]) )\n",
    "            for topic_ind2 in range(len(term_rankings)):\n",
    "                if pair[0] in term_rankings[topic_ind2] and pair[1] in term_rankings[topic_ind2]:\n",
    "                    texts_2w += 1\n",
    "                if pair[0] in term_rankings[topic_ind2]:\n",
    "                    texts_1stw += 1\n",
    "                if pair[1] in term_rankings[topic_ind2]:\n",
    "                    texts_2ndw += 1\n",
    "            pair_prob = log((10**-12 + texts_2w / len(term_rankings)) / ((texts_1stw / len(term_rankings))*texts_1stw / len(term_rankings)))\n",
    "            pair_scores.append(pair_prob)\n",
    "        # get the sum for all pairs in this topic\n",
    "        topic_score = sum(pair_scores)\n",
    "        overall_coherence += topic_score\n",
    "    # get the mean score across all topics\n",
    "    return overall_coherence / len(term_rankings)\n",
    "\n",
    "\n",
    "k_values = []\n",
    "coherences = []\n",
    "for (k,W,H) in topic_models:\n",
    "    # Get all of the topic descriptors - the term_rankings, based on top 20 terms\n",
    "    term_rankings = []\n",
    "    for topic_index in range(k):\n",
    "        term_rankings.append( get_descriptor( terms, H, topic_index, 20 ) )\n",
    "    # Now calculate the coherence based on our Word2vec model\n",
    "    k_values.append( k )\n",
    "    coherences.append( calculate_coherence( w2v_model, term_rankings ) )\n",
    "    #print(term_rankings)\n",
    "    print(\"K=%02d: Coherence=%.4f\" % ( k, coherences[-1] ) )"
   ]
  },
  {
   "cell_type": "code",
   "execution_count": 84,
   "metadata": {},
   "outputs": [
    {
     "data": {
      "image/png": "[encoded data removed]",
      "text/plain": [
       "<matplotlib.figure.Figure at 0xc60099a58>"
      ]
     },
     "metadata": {},
     "output_type": "display_data"
    }
   ],
   "source": [
    "fig = plt.figure(figsize=(13,7))\n",
    "# create the line plot\n",
    "ax = plt.plot( k_values, coherences )\n",
    "plt.xticks(k_values)\n",
    "plt.xlabel(\"Number of Topics\")\n",
    "plt.ylabel(\"Mean Coherence\")\n",
    "# add the points\n",
    "plt.scatter( k_values, coherences, s=120)\n",
    "# find and annotate the maximum point on the plot\n",
    "ymax = max(coherences)\n",
    "xpos = coherences.index(ymax)\n",
    "best_k = k_values[xpos]\n",
    "plt.annotate( \"k=%d\" % best_k, xy=(best_k, ymax), xytext=(best_k, ymax), textcoords=\"offset points\", fontsize=16)\n",
    "# show the plot\n",
    "plt.show()"
   ]
  },
  {
   "cell_type": "code",
   "execution_count": 85,
   "metadata": {},
   "outputs": [
    {
     "name": "stdout",
     "output_type": "stream",
     "text": [
      "Topic 01: league, season, leicester, premier, goal, liverpool, game, ball, players, united, team, city, arsenal, football, chelsea, manchester, club, everton, palace, half\n",
      "Topic 02: trump, eu, people, uk, bank, brexit, government, health, clinton, campaign, vote, britain, party, women, time, leave, referendum, nhs, banks, european\n",
      "Topic 03: zika, virus, infected, transmission, aerial, tropical, vaccines, dimension, carlos, centers, miami, borne, derek, infections, syndrome, organic, brazil, infectious, rio, aforementioned\n",
      "Topic 04: cheryl, academy, idris, vickers, elba, sciences, dylan, butler, nominees, kenneth, nobel, arts, gerard, tina, favourites, loads, evolving, wendy, inclusion, implemented\n",
      "Topic 05: album, music, band, pop, songs, song, rock, love, life, review, film, sound, time, show, singer, internet, video, bowie, something, live\n",
      "Topic 06: lallana, sturridge, firmino, coutinho, guidolin, moreno, mignolet, francesco, henderson, stirring, unmarked, drake, klopp, alberto, liverpool, philippe, mcarthur, tender, jürgen, lust\n",
      "Topic 07: vile, shirts, collapsing, rihanna, melodies, confusion, suits, empty, wet, freak, chords, vine, swapped, resemble, train, et, wonders, possibilities, eats, le\n",
      "Topic 08: tesco, wendy, standalone, dazzling, lieutenant, frustrations, associates, whip, bankrupt, cheryl, extract, buyers, supplying, murderer, anxieties, angst, sensitivity, heath, alternatively, symbolic\n",
      "Topic 09: shoppers, tesco, loneliness, deliveries, amazon, grocery, organic, wholesale, juice, metal, groceries, supermarket, fresh, convenience, items, teenage, ambient, frozen, wendy, standalone\n",
      "Topic 10: yoga, ppi, shaun, wallace, closures, shoppers, needless, knee, branches, sensitivity, wedding, curiosity, mis, 40m, seller, buyers, angst, branch, ombudsman, farmers\n",
      "Topic 11: gibson, ingredient, mel, gaga, yahoo, adams, whatsapp, superman, jackie, ingredients, makeup, honey, denis, natalie, penn, wendy, standalone, dazzling, lieutenant, frustrations\n",
      "Topic 12: carrier, corporation, shining, closures, associates, stiff, pentagon, toured, punish, styles, plant, announcements, shook, pop, maker, quoting, indiana, unsustainable, boasting, factory\n",
      "Topic 13: farmers, wendy, standalone, dazzling, lieutenant, frustrations, agricultural, associates, whip, bankrupt, farming, cheryl, extract, buyers, supplying, murderer, anxieties, angst, sensitivity, heath\n",
      "Topic 14: film, films, movie, hollywood, actor, star, drama, director, story, oscar, character, screen, comedy, cinema, movies, disney, festival, actors, thriller, best\n"
     ]
    }
   ],
   "source": [
    "k = best_k\n",
    "# get the model that we generated earlier.\n",
    "W = topic_models[k-kmin][1]\n",
    "H = topic_models[k-kmin][2]\n",
    "\n",
    "for topic_index in range(k):\n",
    "    descriptor = get_descriptor( terms, H, topic_index, 20 )\n",
    "    str_descriptor = \", \".join( descriptor )\n",
    "    print(\"Topic %02d: %s\" % ( topic_index+1, str_descriptor ) )"
   ]
  },
  {
   "cell_type": "code",
   "execution_count": 86,
   "metadata": {},
   "outputs": [
    {
     "name": "stdout",
     "output_type": "stream",
     "text": [
      "K=04: Coherence=-9.1842\n",
      "K=05: Coherence=-10.2586\n",
      "K=06: Coherence=-4.9676\n",
      "K=07: Coherence=-14.4571\n",
      "K=08: Coherence=-20.3009\n",
      "K=09: Coherence=-19.4827\n",
      "K=10: Coherence=-17.3348\n",
      "K=11: Coherence=-35.0428\n",
      "K=12: Coherence=-11.4160\n",
      "K=13: Coherence=-17.2206\n",
      "K=14: Coherence=-24.4808\n",
      "K=15: Coherence=-21.9422\n"
     ]
    }
   ],
   "source": [
    "#Umass\n",
    "\n",
    "from math import log\n",
    "from itertools import combinations\n",
    "\n",
    "\n",
    "def calculate_coherence( w2v_model, term_rankings ):\n",
    "    overall_coherence = 0.0\n",
    "    for topic_index in range(len(term_rankings)):\n",
    "        # check each pair of terms\n",
    "        pair_scores = []\n",
    "        for pair in combinations( term_rankings[topic_index], 2 ):\n",
    "            texts_2w = 0 #two words probability\n",
    "            texts_1stw = 0 #probability of the first word in a pair\n",
    "            #pair_scores.append( w2v_model.similarity(pair[0], pair[1]) )\n",
    "            for topic_ind2 in range(len(term_rankings)):\n",
    "                if pair[0] in term_rankings[topic_ind2] and pair[1] in term_rankings[topic_ind2]:\n",
    "                    texts_2w += 1\n",
    "                if pair[0] in term_rankings[topic_ind2]:\n",
    "                    texts_1stw += 1\n",
    "            pair_prob = log((10**-12 + texts_2w / len(term_rankings)) / (texts_1stw / len(term_rankings)))\n",
    "            pair_scores.append(pair_prob)\n",
    "        # get the sum for all pairs in this topic\n",
    "        topic_score = sum(pair_scores)\n",
    "        overall_coherence += topic_score\n",
    "    # get the mean score across all topics\n",
    "    return overall_coherence / len(term_rankings)\n",
    "\n",
    "\n",
    "k_values = []\n",
    "coherences = []\n",
    "for (k,W,H) in topic_models:\n",
    "    # Get all of the topic descriptors - the term_rankings, based on top 20 terms\n",
    "    term_rankings = []\n",
    "    for topic_index in range(k):\n",
    "        term_rankings.append( get_descriptor( terms, H, topic_index, 20 ) )\n",
    "    # Now calculate the coherence based on our Word2vec model\n",
    "    k_values.append( k )\n",
    "    coherences.append( calculate_coherence( w2v_model, term_rankings ) )\n",
    "    #print(term_rankings)\n",
    "    print(\"K=%02d: Coherence=%.4f\" % ( k, coherences[-1] ) )"
   ]
  },
  {
   "cell_type": "code",
   "execution_count": 87,
   "metadata": {},
   "outputs": [
    {
     "data": {
      "image/png": "[encoded data removed]",
      "text/plain": [
       "<matplotlib.figure.Figure at 0xc63dfa1d0>"
      ]
     },
     "metadata": {},
     "output_type": "display_data"
    }
   ],
   "source": [
    "fig = plt.figure(figsize=(13,7))\n",
    "# create the line plot\n",
    "ax = plt.plot( k_values, coherences )\n",
    "plt.xticks(k_values)\n",
    "plt.xlabel(\"Number of Topics\")\n",
    "plt.ylabel(\"Mean Coherence\")\n",
    "# add the points\n",
    "plt.scatter( k_values, coherences, s=120)\n",
    "# find and annotate the maximum point on the plot\n",
    "ymax = max(coherences)\n",
    "xpos = coherences.index(ymax)\n",
    "best_k = k_values[xpos]\n",
    "plt.annotate( \"k=%d\" % best_k, xy=(best_k, ymax), xytext=(best_k, ymax), textcoords=\"offset points\", fontsize=16)\n",
    "# show the plot\n",
    "plt.show()"
   ]
  },
  {
   "cell_type": "code",
   "execution_count": 88,
   "metadata": {},
   "outputs": [
    {
     "name": "stdout",
     "output_type": "stream",
     "text": [
      "Topic 01: league, season, leicester, premier, goal, liverpool, game, ball, united, players, team, city, football, arsenal, chelsea, club, manchester, half, manager, everton\n",
      "Topic 02: trump, eu, people, uk, bank, brexit, health, government, clinton, campaign, vote, britain, party, referendum, leave, nhs, banks, women, european, financial\n",
      "Topic 03: promoter, prize, entries, tickets, barclays, winners, n1, teamed, competition, kings, details, reserves, liability, cryan, entry, failings, promotion, entered, stamped, passion\n",
      "Topic 04: fisher, carrie, princess, awakens, wars, trailer, disclosed, star, shades, daunting, disney, force, wishes, views, delaney, christie, rogue, surrender, grey, 8m\n",
      "Topic 05: film, album, music, band, pop, songs, song, movie, life, love, time, star, films, people, best, rock, review, something, show, story\n",
      "Topic 06: shaun, sheep, wallace, upward, arc, keyboards, gibson, tuition, cork, standalone, ambient, rumour, sequel, mars, showcase, valentine, sexy, aesthetic, daniels, influences\n"
     ]
    }
   ],
   "source": [
    "k = best_k\n",
    "# get the model that we generated earlier.\n",
    "W = topic_models[k-kmin][1]\n",
    "H = topic_models[k-kmin][2]\n",
    "\n",
    "for topic_index in range(k):\n",
    "    descriptor = get_descriptor( terms, H, topic_index, 20 )\n",
    "    str_descriptor = \", \".join( descriptor )\n",
    "    print(\"Topic %02d: %s\" % ( topic_index+1, str_descriptor ) )"
   ]
  },
  {
   "cell_type": "code",
   "execution_count": null,
   "metadata": {
    "collapsed": true
   },
   "outputs": [],
   "source": [
    "#LDA & UCI chosen\n",
    "class NewsRecommender:\n",
    "    \"\"\"\n",
    "    обучить систему на корпусе текстов  с помощью тематической модели и метрики, выбранных в результате исследования\n",
    "    \"\"\"\n",
    "    def train(self, texts):\n",
    "        pass\n",
    "    \"\"\"\n",
    "    выдать k самых пожих новостей для заданного заголовка по функции расстояния, выбранной в результате исследования\n",
    "    обратите внимание, что text_sample может содержать слова не из обучающего корпуса\n",
    "    \"\"\"\n",
    "    def recommend(self, text_sample, k):\n",
    "        return [\"news_1\", \"news_2\", ... , \"news_k\"]"
   ]
  }
 ],
 "metadata": {
  "kernelspec": {
   "display_name": "Python 3",
   "language": "python",
   "name": "python3"
  },
  "language_info": {
   "codemirror_mode": {
    "name": "ipython",
    "version": 3
   },
   "file_extension": ".py",
   "mimetype": "text/x-python",
   "name": "python",
   "nbconvert_exporter": "python",
   "pygments_lexer": "ipython3",
   "version": "3.6.2"
  }
 },
 "nbformat": 4,
 "nbformat_minor": 2
}
